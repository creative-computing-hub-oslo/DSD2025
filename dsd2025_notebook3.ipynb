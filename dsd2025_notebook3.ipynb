{
 "cells": [
  {
   "cell_type": "markdown",
   "id": "9a4bf046-f9d0-40bb-836a-04e571515827",
   "metadata": {},
   "source": [
    "# Notebook 3: Animation with Plotly"
   ]
  },
  {
   "cell_type": "markdown",
   "id": "73677e57-7e9e-4a96-9968-19a0aa5bb1c3",
   "metadata": {},
   "source": [
    "#### This notebook is based off of the following tutorial: https://plotly.com/python/animations/"
   ]
  },
  {
   "cell_type": "code",
   "execution_count": null,
   "id": "4d92709c-5454-496c-8579-2aabb010a2aa",
   "metadata": {},
   "outputs": [],
   "source": [
    "# import pacakges\n",
    "import plotly as py\n",
    "import plotly.express as px\n",
    "import pandas as pd\n",
    "import plotly.graph_objects as go"
   ]
  },
  {
   "cell_type": "code",
   "execution_count": null,
   "id": "547e9281-887e-4a70-b766-7c92708ae6ca",
   "metadata": {},
   "outputs": [],
   "source": [
    "# Read and display tips.csv file from plotly datasets\n",
    "df = pd.read_csv('data/gapminderDataFiveYear.csv')\n",
    "df"
   ]
  },
  {
   "cell_type": "code",
   "execution_count": null,
   "id": "9bb561c2-add7-4da7-80f8-b29c7f922cbc",
   "metadata": {},
   "outputs": [],
   "source": [
    "# Create an animated scatter plot\n",
    "px.scatter(df, x=\"gdpPercap\", y=\"lifeExp\", animation_frame=\"year\", \n",
    "           animation_group=\"country\", size=\"pop\", color=\"continent\", \n",
    "           hover_name=\"country\", log_x=True, size_max=55, \n",
    "           range_x=[100,50000], range_y=[25,90])"
   ]
  },
  {
   "cell_type": "code",
   "execution_count": null,
   "id": "63af5df6-b024-4684-bafb-f1c3c7585ecb",
   "metadata": {},
   "outputs": [],
   "source": [
    "# Create an animated bar chart\n",
    "fig = px.bar(df, x=\"continent\", y=\"pop\", color=\"continent\",\n",
    "  animation_frame=\"year\", animation_group=\"country\", range_y=[0,4000000000])\n",
    "fig.show()"
   ]
  },
  {
   "cell_type": "code",
   "execution_count": null,
   "id": "f67180f3-bc7e-4575-85fa-6963066a76c5",
   "metadata": {},
   "outputs": [],
   "source": [
    "# Animate a scatter plot frame by frame using graph objects\n",
    "fig = go.Figure(\n",
    "    data=[go.Scatter(x=[0, 1], y=[0, 1])],\n",
    "    layout=go.Layout(\n",
    "        xaxis=dict(range=[0, 5], autorange=False),\n",
    "        yaxis=dict(range=[0, 5], autorange=False),\n",
    "        updatemenus=[dict(\n",
    "            type=\"buttons\",\n",
    "            buttons=[dict(label=\"Play\",\n",
    "                          method=\"animate\",\n",
    "                          args=[None])])]\n",
    "    ),\n",
    "    frames=[go.Frame(data=[go.Scatter(x=[1, 2], y=[1, 2])]),\n",
    "            go.Frame(data=[go.Scatter(x=[1, 4], y=[1, 4])]),\n",
    "            go.Frame(data=[go.Scatter(x=[3, 4], y=[3, 4])])\n",
    "           ]\n",
    ")\n",
    "\n",
    "fig.show()"
   ]
  },
  {
   "cell_type": "code",
   "execution_count": null,
   "id": "2a4c9b21-75fb-4a80-ad52-6b7512b609f8",
   "metadata": {},
   "outputs": [],
   "source": []
  }
 ],
 "metadata": {
  "kernelspec": {
   "display_name": "Python 3 (ipykernel)",
   "language": "python",
   "name": "python3"
  },
  "language_info": {
   "codemirror_mode": {
    "name": "ipython",
    "version": 3
   },
   "file_extension": ".py",
   "mimetype": "text/x-python",
   "name": "python",
   "nbconvert_exporter": "python",
   "pygments_lexer": "ipython3",
   "version": "3.10.10"
  }
 },
 "nbformat": 4,
 "nbformat_minor": 5
}
