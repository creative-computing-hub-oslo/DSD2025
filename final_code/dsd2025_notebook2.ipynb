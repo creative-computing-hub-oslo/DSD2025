{
 "cells": [
  {
   "cell_type": "markdown",
   "id": "1dfae745-32bf-4bd8-83f4-f24ab1531cd0",
   "metadata": {},
   "source": [
    "# Notebook 2: Dynamic Animation with Matplotlib"
   ]
  },
  {
   "cell_type": "markdown",
   "id": "2382f795-9864-4e18-af5e-0cf787b9170f",
   "metadata": {},
   "source": [
    "#### This notebook is based off of the following tutorial: https://matplotlib.org/stable/users/explain/animations/animations.html"
   ]
  },
  {
   "cell_type": "code",
   "execution_count": 1,
   "id": "24a5f099-fcd4-43b0-a19a-99eab5fea985",
   "metadata": {},
   "outputs": [],
   "source": [
    "# import packages\n",
    "import matplotlib.pyplot as plt\n",
    "import numpy as np\n",
    "import matplotlib.animation as animation"
   ]
  },
  {
   "cell_type": "code",
   "execution_count": 2,
   "id": "3be85af1-a1c1-4d13-9199-0da8b6483dac",
   "metadata": {},
   "outputs": [
    {
     "name": "stdout",
     "output_type": "stream",
     "text": [
      "[ 0.          0.20408163  0.40816327  0.6122449   0.81632653  1.02040816\n",
      "  1.2244898   1.42857143  1.63265306  1.83673469  2.04081633  2.24489796\n",
      "  2.44897959  2.65306122  2.85714286  3.06122449  3.26530612  3.46938776\n",
      "  3.67346939  3.87755102  4.08163265  4.28571429  4.48979592  4.69387755\n",
      "  4.89795918  5.10204082  5.30612245  5.51020408  5.71428571  5.91836735\n",
      "  6.12244898  6.32653061  6.53061224  6.73469388  6.93877551  7.14285714\n",
      "  7.34693878  7.55102041  7.75510204  7.95918367  8.16326531  8.36734694\n",
      "  8.57142857  8.7755102   8.97959184  9.18367347  9.3877551   9.59183673\n",
      "  9.79591837 10.        ]\n",
      "[0.60557862 0.12104672 0.58279027 0.35354964 0.72715978 0.2679973\n",
      " 0.06996763 0.50768236 0.76241507 0.97193285 0.24025677 0.81452717\n",
      " 0.92745474 0.62915522 0.33706881 0.65146969 0.38586338 0.16082986\n",
      " 0.07794603 0.88401969 0.50317837 0.11021872 0.71658811 0.47749243\n",
      " 0.49077647 0.53714237 0.65237518 0.58359876 0.14473523 0.00641911\n",
      " 0.76767088 0.49247665 0.98415775 0.11553688 0.62255468 0.19866896\n",
      " 0.3747919  0.06674517 0.7929214  0.79146813 0.71484853 0.68970008\n",
      " 0.46171094 0.45628673 0.90928925 0.12875902 0.59061822 0.23814992\n",
      " 0.74530323 0.49205111]\n"
     ]
    }
   ],
   "source": [
    "# Create an x array of 50 numbers from 0 to 10 and a y array of 50 random numbers from 0 to 1\n",
    "x = np.linspace(0, 10)\n",
    "y = np.random.rand(50)\n",
    "\n",
    "print(x)\n",
    "print(y)"
   ]
  },
  {
   "cell_type": "code",
   "execution_count": 3,
   "id": "0f7294f0-8cde-4968-8acf-d5a40baa4442",
   "metadata": {},
   "outputs": [
    {
     "data": {
      "text/plain": [
       "Text(0, 0.5, 'y axis')"
      ]
     },
     "execution_count": 3,
     "metadata": {},
     "output_type": "execute_result"
    },
    {
     "data": {
      "image/png": "[encoded data removed]",
      "text/plain": [
       "<Figure size 640x480 with 1 Axes>"
      ]
     },
     "metadata": {},
     "output_type": "display_data"
    }
   ],
   "source": [
    "# Create a scatterplot and set x and y limits\n",
    "fig, ax = plt.subplots()\n",
    "scat = ax.scatter(1, 0)\n",
    "ax.set_xlim([0, 10])\n",
    "ax.set_ylim([0, 1])\n",
    "plt.xlabel(\"x axis\")\n",
    "plt.ylabel(\"y axis\")"
   ]
  },
  {
   "cell_type": "code",
   "execution_count": 4,
   "id": "5b55d928-d95c-46a3-aefc-c31e554f5cb1",
   "metadata": {},
   "outputs": [],
   "source": [
    "# Create animate function for scatter plot\n",
    "def animate(i):\n",
    "    scat.set_offsets((x[i], y[i]))\n",
    "    return scat"
   ]
  },
  {
   "cell_type": "code",
   "execution_count": 5,
   "id": "cdfa4666-3015-4313-ba47-21950e1978d0",
   "metadata": {},
   "outputs": [],
   "source": [
    "# Animate the scatter plot\n",
    "ani = animation.FuncAnimation(fig, animate, repeat=True, \n",
    "                              frames=len(x) - 1, interval=50)"
   ]
  },
  {
   "cell_type": "code",
   "execution_count": 6,
   "id": "26526ffe-37d9-4016-9b26-6ba9428f7f4d",
   "metadata": {},
   "outputs": [],
   "source": [
    "#Save animation as a gif\n",
    "writer = animation.PillowWriter(fps=15,\n",
    "                                metadata=dict(artist='Me'),\n",
    "                                bitrate=1800)\n",
    "ani.save('scatter.gif', writer=writer)"
   ]
  },
  {
   "cell_type": "markdown",
   "id": "23b737f0-e5d8-4312-8471-b396828ef9fe",
   "metadata": {},
   "source": [
    "![Whoops!](scatter.gif)"
   ]
  },
  {
   "cell_type": "code",
   "execution_count": 7,
   "id": "5d0d9b38-2f90-4fb2-93bc-4d22b5dec388",
   "metadata": {},
   "outputs": [],
   "source": [
    "# Create the start of a line\n",
    "line = ax.plot(x[0], y[0])[0]"
   ]
  },
  {
   "cell_type": "code",
   "execution_count": 8,
   "id": "8a571827-a331-497f-ba89-0e6e7bcf1d7d",
   "metadata": {},
   "outputs": [],
   "source": [
    "# Update animate function to include line\n",
    "def animate(i):\n",
    "    scat.set_offsets((x[i], y[i]))\n",
    "    line.set_xdata(x[:i])\n",
    "    line.set_ydata(y[:i])\n",
    "    return (scat, line)"
   ]
  },
  {
   "cell_type": "code",
   "execution_count": 9,
   "id": "bf41c551-bdcb-4c2e-a840-6a2771ea7a70",
   "metadata": {},
   "outputs": [],
   "source": [
    "# Animate the new scatter plot\n",
    "ani = animation.FuncAnimation(fig, animate, repeat=True, \n",
    "                              frames=len(x) - 1, interval=50)"
   ]
  },
  {
   "cell_type": "code",
   "execution_count": 10,
   "id": "f89eab43-0571-422f-a369-49f392af8ae8",
   "metadata": {},
   "outputs": [],
   "source": [
    "#Save new animation as a gif\n",
    "writer = animation.PillowWriter(fps=15,\n",
    "                                metadata=dict(artist='Me'),\n",
    "                                bitrate=1800)\n",
    "ani.save('scatter_with_line.gif', writer=writer)"
   ]
  },
  {
   "cell_type": "markdown",
   "id": "987ce653-3708-41be-9560-c45d505b65d6",
   "metadata": {},
   "source": [
    "![Whoops!](scatter_with_line.gif)"
   ]
  },
  {
   "cell_type": "markdown",
   "id": "2cf2a6b7-6965-4c3c-9c95-aecd4ac70796",
   "metadata": {},
   "source": [
    "### Create an array of random numbers (https://numpy.org/doc/stable/reference/random/generator.html)"
   ]
  },
  {
   "cell_type": "code",
   "execution_count": 11,
   "id": "44863541-54e0-4673-b5fc-125828d2d2ce",
   "metadata": {},
   "outputs": [],
   "source": [
    "# Create an array of random numbers\n",
    "rng = np.random.default_rng(19680801)"
   ]
  },
  {
   "cell_type": "code",
   "execution_count": 12,
   "id": "761484a5-a523-487a-9575-3c514bdb45ed",
   "metadata": {},
   "outputs": [],
   "source": [
    "# Create x and y (data) arrays\n",
    "x = np.array([1, 2, 3, 4])\n",
    "data = np.array([20, 20, 20, 20])"
   ]
  },
  {
   "cell_type": "code",
   "execution_count": 13,
   "id": "202eba0b-de82-455b-965f-f74239dc50b8",
   "metadata": {},
   "outputs": [],
   "source": [
    "# Create artist and color arrays\n",
    "artists = []\n",
    "colors = ['tab:blue', 'tab:red', 'tab:green', 'tab:purple']"
   ]
  },
  {
   "cell_type": "code",
   "execution_count": 14,
   "id": "65121305-3402-41e7-bcd1-44e1a7dd0eba",
   "metadata": {},
   "outputs": [
    {
     "data": {
      "image/png": "[encoded data removed]",
      "text/plain": [
       "<Figure size 640x480 with 1 Axes>"
      ]
     },
     "metadata": {},
     "output_type": "display_data"
    }
   ],
   "source": [
    "# append each frame to the artist array\n",
    "fig, ax = plt.subplots()\n",
    "plt.xlabel(\"x axis\")\n",
    "plt.ylabel(\"y axis\")\n",
    "for i in range(20):\n",
    "    data += rng.integers(low=0, high=10, size=data.shape)\n",
    "    container = ax.barh(x, data, color=colors)\n",
    "    artists.append(container)"
   ]
  },
  {
   "cell_type": "code",
   "execution_count": 15,
   "id": "d287c0e9-9d2f-4f6b-8628-858e6c2d2549",
   "metadata": {},
   "outputs": [],
   "source": [
    "# Animate figure\n",
    "ani = animation.ArtistAnimation(fig=fig, artists=artists, interval=400)"
   ]
  },
  {
   "cell_type": "code",
   "execution_count": 16,
   "id": "bef7ac63-f9fb-402c-bb81-752270e4b210",
   "metadata": {},
   "outputs": [],
   "source": [
    "# Save animation as a gift\n",
    "ani.save('artists.gif', writer=\"pillow\")"
   ]
  },
  {
   "cell_type": "markdown",
   "id": "c539a27b-99f1-4723-b878-a1de73d4afec",
   "metadata": {},
   "source": [
    "![Whoops!](artists.gif)"
   ]
  }
 ],
 "metadata": {
  "kernelspec": {
   "display_name": "Python 3 (ipykernel)",
   "language": "python",
   "name": "python3"
  },
  "language_info": {
   "codemirror_mode": {
    "name": "ipython",
    "version": 3
   },
   "file_extension": ".py",
   "mimetype": "text/x-python",
   "name": "python",
   "nbconvert_exporter": "python",
   "pygments_lexer": "ipython3",
   "version": "3.10.10"
  }
 },
 "nbformat": 4,
 "nbformat_minor": 5
}
