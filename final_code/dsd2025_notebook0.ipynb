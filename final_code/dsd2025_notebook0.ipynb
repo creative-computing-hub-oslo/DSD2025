{
 "cells": [
  {
   "cell_type": "markdown",
   "id": "4f30a37f-b220-464c-9bef-87396fa232d8",
   "metadata": {},
   "source": [
    "# Notebook 0: Install Packages"
   ]
  },
  {
   "cell_type": "code",
   "execution_count": null,
   "id": "5e77f9fc-df97-4fe4-b6eb-da4a309834c9",
   "metadata": {},
   "outputs": [],
   "source": [
    "!pip install --upgrade pip\n",
    "!pip install numpy\n",
    "!pip install plotly\n",
    "!pip install pandas\n",
    "!pip install matplotlib\n",
    "!pip install plotly_express\n",
    "!pip install networkx\n",
    "!pip install bokeh"
   ]
  },
  {
   "cell_type": "code",
   "execution_count": null,
   "id": "3845c942-6299-4f06-8f2e-cbfba545934f",
   "metadata": {},
   "outputs": [],
   "source": []
  }
 ],
 "metadata": {
  "kernelspec": {
   "display_name": "Python 3 (ipykernel)",
   "language": "python",
   "name": "python3"
  },
  "language_info": {
   "codemirror_mode": {
    "name": "ipython",
    "version": 3
   },
   "file_extension": ".py",
   "mimetype": "text/x-python",
   "name": "python",
   "nbconvert_exporter": "python",
   "pygments_lexer": "ipython3",
   "version": "3.10.10"
  }
 },
 "nbformat": 4,
 "nbformat_minor": 5
}
