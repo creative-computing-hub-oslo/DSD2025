{
 "cells": [
  {
   "cell_type": "markdown",
   "id": "1710eb94-ac6f-4325-9815-a99f3326cd87",
   "metadata": {},
   "source": [
    "# Notebook 4: Interactive Network Visualization with Bokeh"
   ]
  },
  {
   "cell_type": "markdown",
   "id": "d52810fe-a328-483f-8865-197ac49a044a",
   "metadata": {},
   "source": [
    "#### This notebook is based off of the following tutorial: https://melaniewalsh.github.io/Intro-Cultural-Analytics/06-Network-Analysis/02-Making-Network-Viz-with-Bokeh.html"
   ]
  },
  {
   "cell_type": "code",
   "execution_count": 1,
   "id": "af7a907b-8f79-4692-8578-9b0754fd98f5",
   "metadata": {},
   "outputs": [],
   "source": [
    "# Import packages\n",
    "import pandas as pd\n",
    "import networkx\n",
    "import matplotlib.pyplot as plt\n",
    "import numpy as np\n",
    "from bokeh.io import output_file, show, save\n",
    "from bokeh.models import Range1d, Circle, ColumnDataSource, MultiLine\n",
    "from bokeh.plotting import figure, from_networkx\n",
    "from bokeh.palettes import Blues8, Reds8, Purples8, Oranges8, Viridis8, Spectral8\n",
    "from bokeh.transform import linear_cmap"
   ]
  },
  {
   "cell_type": "markdown",
   "id": "825a6082-3f54-4759-91e3-cf33e69e5790",
   "metadata": {},
   "source": [
    "### Read edges csv (https://github.com/melaniewalsh/sample-social-network-datasets/tree/master/sample-datasets/game-of-thrones)"
   ]
  },
  {
   "cell_type": "code",
   "execution_count": 2,
   "id": "6dde4354-a51e-4abf-9096-1adf259bae25",
   "metadata": {},
   "outputs": [
    {
     "data": {
      "text/html": [
       "<div>\n",
       "<style scoped>\n",
       "    .dataframe tbody tr th:only-of-type {\n",
       "        vertical-align: middle;\n",
       "    }\n",
       "\n",
       "    .dataframe tbody tr th {\n",
       "        vertical-align: top;\n",
       "    }\n",
       "\n",
       "    .dataframe thead th {\n",
       "        text-align: right;\n",
       "    }\n",
       "</style>\n",
       "<table border=\"1\" class=\"dataframe\">\n",
       "  <thead>\n",
       "    <tr style=\"text-align: right;\">\n",
       "      <th></th>\n",
       "      <th>Source</th>\n",
       "      <th>Target</th>\n",
       "      <th>Weight</th>\n",
       "    </tr>\n",
       "  </thead>\n",
       "  <tbody>\n",
       "    <tr>\n",
       "      <th>0</th>\n",
       "      <td>Aemon</td>\n",
       "      <td>Grenn</td>\n",
       "      <td>5</td>\n",
       "    </tr>\n",
       "    <tr>\n",
       "      <th>1</th>\n",
       "      <td>Aemon</td>\n",
       "      <td>Samwell</td>\n",
       "      <td>31</td>\n",
       "    </tr>\n",
       "    <tr>\n",
       "      <th>2</th>\n",
       "      <td>Aerys</td>\n",
       "      <td>Jaime</td>\n",
       "      <td>18</td>\n",
       "    </tr>\n",
       "    <tr>\n",
       "      <th>3</th>\n",
       "      <td>Aerys</td>\n",
       "      <td>Robert</td>\n",
       "      <td>6</td>\n",
       "    </tr>\n",
       "    <tr>\n",
       "      <th>4</th>\n",
       "      <td>Aerys</td>\n",
       "      <td>Tyrion</td>\n",
       "      <td>5</td>\n",
       "    </tr>\n",
       "    <tr>\n",
       "      <th>...</th>\n",
       "      <td>...</td>\n",
       "      <td>...</td>\n",
       "      <td>...</td>\n",
       "    </tr>\n",
       "    <tr>\n",
       "      <th>347</th>\n",
       "      <td>Walder</td>\n",
       "      <td>Petyr</td>\n",
       "      <td>6</td>\n",
       "    </tr>\n",
       "    <tr>\n",
       "      <th>348</th>\n",
       "      <td>Walder</td>\n",
       "      <td>Roslin</td>\n",
       "      <td>6</td>\n",
       "    </tr>\n",
       "    <tr>\n",
       "      <th>349</th>\n",
       "      <td>Walton</td>\n",
       "      <td>Jaime</td>\n",
       "      <td>10</td>\n",
       "    </tr>\n",
       "    <tr>\n",
       "      <th>350</th>\n",
       "      <td>Ygritte</td>\n",
       "      <td>Qhorin</td>\n",
       "      <td>7</td>\n",
       "    </tr>\n",
       "    <tr>\n",
       "      <th>351</th>\n",
       "      <td>Ygritte</td>\n",
       "      <td>Rattleshirt</td>\n",
       "      <td>9</td>\n",
       "    </tr>\n",
       "  </tbody>\n",
       "</table>\n",
       "<p>352 rows × 3 columns</p>\n",
       "</div>"
      ],
      "text/plain": [
       "      Source       Target  Weight\n",
       "0      Aemon        Grenn       5\n",
       "1      Aemon      Samwell      31\n",
       "2      Aerys        Jaime      18\n",
       "3      Aerys       Robert       6\n",
       "4      Aerys       Tyrion       5\n",
       "..       ...          ...     ...\n",
       "347   Walder        Petyr       6\n",
       "348   Walder       Roslin       6\n",
       "349   Walton        Jaime      10\n",
       "350  Ygritte       Qhorin       7\n",
       "351  Ygritte  Rattleshirt       9\n",
       "\n",
       "[352 rows x 3 columns]"
      ]
     },
     "execution_count": 2,
     "metadata": {},
     "output_type": "execute_result"
    }
   ],
   "source": [
    "df = pd.read_csv('../data/got-edges.csv')\n",
    "df"
   ]
  },
  {
   "cell_type": "markdown",
   "id": "f4bfe9bd-fff4-4241-82d2-028711cb18ef",
   "metadata": {},
   "source": [
    "### Create a network (https://networkx.org/documentation/stable/reference/generated/networkx.convert_matrix.from_pandas_edgelist.html)"
   ]
  },
  {
   "cell_type": "code",
   "execution_count": 3,
   "id": "ae083790-44ce-4a50-99dc-88166d44b473",
   "metadata": {},
   "outputs": [],
   "source": [
    "G =  (df, 'Source', 'Target', 'Weight')\n",
    "\n",
    "# Establish which categories will appear when hovering over each node\n",
    "HOVER_TOOLTIPS = [(\"Character\", \"@index\")]\n",
    "\n",
    "# Create the plot\n",
    "title = 'Game_of_Thrones_Network'\n",
    "plot = figure(tooltips = HOVER_TOOLTIPS,\n",
    "              tools=\"pan,wheel_zoom,save,reset\", active_scroll='wheel_zoom',\n",
    "            x_range=Range1d(-10.1, 10.1), y_range=Range1d(-10.1, 10.1), title=title)"
   ]
  },
  {
   "cell_type": "markdown",
   "id": "9b927ec8-37c4-4113-ab35-55d1ccf51ffc",
   "metadata": {},
   "source": [
    "### Create a network graph object with spring layout (https://networkx.github.io/documentation/networkx-1.9/reference/generated/networkx.drawing.layout.spring_layout.html)"
   ]
  },
  {
   "cell_type": "code",
   "execution_count": 4,
   "id": "56ff7cd9-bef0-49c7-a349-e6c9dd283526",
   "metadata": {},
   "outputs": [],
   "source": [
    "network_graph = from_networkx(G, networkx.spring_layout, scale=10, center=(0, 0))\n",
    "\n",
    "#Set node size and color\n",
    "network_graph.node_renderer.glyph = Circle(radius=0.2, fill_color='skyblue')\n",
    "\n",
    "#Set edge opacity and width\n",
    "network_graph.edge_renderer.glyph = MultiLine(line_alpha=0.5, line_width=1)\n",
    "\n",
    "#Add network graph to the plot\n",
    "plot.renderers.append(network_graph)"
   ]
  },
  {
   "cell_type": "code",
   "execution_count": 5,
   "id": "8e19b382-2519-4d9a-848d-084022c4ad31",
   "metadata": {},
   "outputs": [],
   "source": [
    "# save plot\n",
    "output_file(filename=f\"{title}.html\") \n",
    "save(plot, filename=f\"{title}.html\", title=title)\n",
    "show(plot)"
   ]
  },
  {
   "cell_type": "markdown",
   "id": "cfff211b-a430-4aeb-9312-eb5e78049026",
   "metadata": {},
   "source": [
    "### Calculate the degree for each node and add it as a node attribute (https://networkx.org/documentation/stable/reference/generated/networkx.classes.function.set_node_attributes.html)"
   ]
  },
  {
   "cell_type": "code",
   "execution_count": 6,
   "id": "2fd975c5-8692-45de-9722-fd8dd1bac63e",
   "metadata": {},
   "outputs": [],
   "source": [
    "degrees = dict(networkx.degree(G))\n",
    "networkx.set_node_attributes(G, name='degree', values=degrees)"
   ]
  },
  {
   "cell_type": "code",
   "execution_count": 7,
   "id": "f91b9d18-bf02-4e57-8a19-3352237e3bc9",
   "metadata": {},
   "outputs": [],
   "source": [
    "# adjust degree so that the nodes with very small degrees are still visible\n",
    "number_to_adjust_by = 0.1\n",
    "adjusted_node_size = dict([(node, (degree/100)+number_to_adjust_by) for node, degree in networkx.degree(G)])\n",
    "networkx.set_node_attributes(G, name='adjusted_node_size', values=adjusted_node_size)"
   ]
  },
  {
   "cell_type": "code",
   "execution_count": 8,
   "id": "396dec87-9cfe-4534-a4f4-40cc1d8260fd",
   "metadata": {},
   "outputs": [],
   "source": [
    "#Choose attributes to size and color by\n",
    "size_by_this_attribute = 'adjusted_node_size'\n",
    "color_by_this_attribute = 'adjusted_node_size'\n",
    "\n",
    "#Pick a color palette\n",
    "color_palette = Blues8\n",
    "\n",
    "# Establish which categories will appear when hovering over each node\n",
    "HOVER_TOOLTIPS = [\n",
    "       (\"Character\", \"@index\"),\n",
    "        (\"Degree\", \"@degree\")\n",
    "]"
   ]
  },
  {
   "cell_type": "code",
   "execution_count": 9,
   "id": "e5903cfa-6516-4033-93c1-fb77e5e5a12c",
   "metadata": {},
   "outputs": [],
   "source": [
    "#Create the plot\n",
    "title = 'GOT_Network_Size_And_Color'\n",
    "plot = figure(tooltips = HOVER_TOOLTIPS,\n",
    "              tools=\"pan,wheel_zoom,save,reset\", active_scroll='wheel_zoom',\n",
    "            x_range=Range1d(-10.1, 10.1), y_range=Range1d(-10.1, 10.1), title=title)"
   ]
  },
  {
   "cell_type": "code",
   "execution_count": 10,
   "id": "5c1d9372-36a7-4751-91ee-ee77d900386c",
   "metadata": {},
   "outputs": [
    {
     "data": {
      "text/plain": [
       "'/home/jupyter-jpclemente97/dsd2025/final_code/GOT_Network_Size_And_Color.html'"
      ]
     },
     "execution_count": 10,
     "metadata": {},
     "output_type": "execute_result"
    }
   ],
   "source": [
    "#Create the network graph object\n",
    "network_graph = from_networkx(G, networkx.spring_layout, scale=10, center=(0, 0))\n",
    "\n",
    "#Set node sizes and colors according to node degree (color as spectrum of color palette)\n",
    "minimum_value_color = min(network_graph.node_renderer.data_source.data[color_by_this_attribute])\n",
    "maximum_value_color = max(network_graph.node_renderer.data_source.data[color_by_this_attribute])\n",
    "network_graph.node_renderer.glyph = Circle(radius=size_by_this_attribute, fill_color=linear_cmap(color_by_this_attribute, color_palette, minimum_value_color, maximum_value_color))\n",
    "\n",
    "#Set edge opacity and width\n",
    "network_graph.edge_renderer.glyph = MultiLine(line_alpha=0.5, line_width=1)\n",
    "\n",
    "plot.renderers.append(network_graph)\n",
    "output_file(filename=f\"{title}.html\") \n",
    "save(plot, filename=f\"{title}.html\", title=title)"
   ]
  },
  {
   "cell_type": "code",
   "execution_count": null,
   "id": "793c2e1f-cedb-4006-9aed-455a633ee68a",
   "metadata": {},
   "outputs": [],
   "source": []
  }
 ],
 "metadata": {
  "kernelspec": {
   "display_name": "Python 3 (ipykernel)",
   "language": "python",
   "name": "python3"
  },
  "language_info": {
   "codemirror_mode": {
    "name": "ipython",
    "version": 3
   },
   "file_extension": ".py",
   "mimetype": "text/x-python",
   "name": "python",
   "nbconvert_exporter": "python",
   "pygments_lexer": "ipython3",
   "version": "3.10.10"
  }
 },
 "nbformat": 4,
 "nbformat_minor": 5
}
