{
 "cells": [
  {
   "cell_type": "markdown",
   "id": "549fa9a8-de38-47db-8420-ad87f5ff5469",
   "metadata": {},
   "source": [
    "# Notebook 1: Dynamic graphs using Plotly Express"
   ]
  },
  {
   "cell_type": "markdown",
   "id": "1a65b290-3806-44bb-a01d-f25435b8c6ca",
   "metadata": {},
   "source": [
    "#### This notebook is based off of the following tutorial: https://plotly.com/python/plotly-express/"
   ]
  },
  {
   "cell_type": "code",
   "execution_count": null,
   "id": "01479b0f-abea-4a4d-84f7-54238a2b3371",
   "metadata": {},
   "outputs": [],
   "source": [
    "# import pacakges\n",
    "import plotly as py\n",
    "import plotly.express as px\n",
    "import pandas as pd"
   ]
  },
  {
   "cell_type": "markdown",
   "id": "888031c7-d4dc-4ec3-bc45-60983d42ca54",
   "metadata": {},
   "source": [
    "#### Plotly example data sets available here: https://plotly.com/python-api-reference/generated/plotly.express.data.html"
   ]
  },
  {
   "cell_type": "code",
   "execution_count": null,
   "id": "7056aac2-ab16-4293-acaa-e6f2e592906f",
   "metadata": {},
   "outputs": [],
   "source": [
    "# Read and display tips.csv file from plotly datasets\n",
    "df = pd.read_csv('data/tips.csv')\n",
    "df"
   ]
  },
  {
   "cell_type": "code",
   "execution_count": null,
   "id": "03a3eaa4-3925-4faa-96cf-80eef1e67600",
   "metadata": {},
   "outputs": [],
   "source": [
    "# Create scatterplot with trendline, and marginal plots\n",
    "fig = px.scatter(df, x=\"total_bill\", y=\"tip\", color=\"time\", trendline=\"ols\",\n",
    "                marginal_x=\"box\",marginal_y=\"violin\",)\n",
    "fig.show()"
   ]
  },
  {
   "cell_type": "code",
   "execution_count": null,
   "id": "d03b7ee9-281f-449a-9658-8f551c551c4f",
   "metadata": {},
   "outputs": [],
   "source": [
    "# Create bar chart \n",
    "fig = px.bar(df, x=\"sex\", y=\"total_bill\", color=\"smoker\", barmode=\"group\")\n",
    "fig.show()"
   ]
  },
  {
   "cell_type": "code",
   "execution_count": null,
   "id": "3391c0b3-127b-4664-a411-f1c1bd037c5a",
   "metadata": {},
   "outputs": [],
   "source": [
    "# Create histogram\n",
    "fig = px.histogram(df, x=\"sex\", y=\"total_bill\", color=\"smoker\", barmode=\"group\")\n",
    "fig.show()"
   ]
  },
  {
   "cell_type": "code",
   "execution_count": null,
   "id": "671c6071-a3d3-4023-82e1-9b686b12b8a1",
   "metadata": {},
   "outputs": [],
   "source": [
    "# Create grid of bar charts\n",
    "fig = px.bar(df, x=\"sex\", y=\"total_bill\", color=\"smoker\", barmode=\"group\", facet_row=\"time\", facet_col=\"day\",\n",
    "       category_orders={\"day\": [\"Thur\", \"Fri\", \"Sat\", \"Sun\"], \"time\": [\"Lunch\", \"Dinner\"]})\n",
    "fig.show()"
   ]
  }
 ],
 "metadata": {
  "kernelspec": {
   "display_name": "Python 3 (ipykernel)",
   "language": "python",
   "name": "python3"
  },
  "language_info": {
   "codemirror_mode": {
    "name": "ipython",
    "version": 3
   },
   "file_extension": ".py",
   "mimetype": "text/x-python",
   "name": "python",
   "nbconvert_exporter": "python",
   "pygments_lexer": "ipython3",
   "version": "3.10.10"
  }
 },
 "nbformat": 4,
 "nbformat_minor": 5
}
