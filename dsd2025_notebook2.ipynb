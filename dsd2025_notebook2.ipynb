{
 "cells": [
  {
   "cell_type": "markdown",
   "id": "1dfae745-32bf-4bd8-83f4-f24ab1531cd0",
   "metadata": {},
   "source": [
    "# Notebook 2: Animation with Matplotlib"
   ]
  },
  {
   "cell_type": "markdown",
   "id": "2382f795-9864-4e18-af5e-0cf787b9170f",
   "metadata": {},
   "source": [
    "#### This notebook is based off of the following tutorial: https://matplotlib.org/stable/users/explain/animations/animations.html"
   ]
  },
  {
   "cell_type": "code",
   "execution_count": null,
   "id": "24a5f099-fcd4-43b0-a19a-99eab5fea985",
   "metadata": {},
   "outputs": [],
   "source": [
    "# import packages\n",
    "import matplotlib.pyplot as plt\n",
    "import numpy as np\n",
    "import matplotlib.animation as animation"
   ]
  },
  {
   "cell_type": "code",
   "execution_count": null,
   "id": "3be85af1-a1c1-4d13-9199-0da8b6483dac",
   "metadata": {},
   "outputs": [],
   "source": [
    "# Create an x array of 50 numbers from 0 to 10 and a y array of 50 random numbers from 0 to 1\n",
    "x = np.linspace(0, 10)\n",
    "y = np.random.rand(50)\n",
    "\n",
    "print(x)\n",
    "print(y)"
   ]
  },
  {
   "cell_type": "code",
   "execution_count": null,
   "id": "0f7294f0-8cde-4968-8acf-d5a40baa4442",
   "metadata": {},
   "outputs": [],
   "source": [
    "# Create a scatterplot and set x and y limits\n",
    "fig, ax = plt.subplots()\n",
    "scat = ax.scatter(1, 0)\n",
    "ax.set_xlim([0, 10])\n",
    "ax.set_ylim([0, 1])"
   ]
  },
  {
   "cell_type": "code",
   "execution_count": null,
   "id": "5b55d928-d95c-46a3-aefc-c31e554f5cb1",
   "metadata": {},
   "outputs": [],
   "source": [
    "# Create animate function for scatter plot\n",
    "def animate(i):\n",
    "    scat.set_offsets((x[i], y[i]))\n",
    "    return scat,"
   ]
  },
  {
   "cell_type": "code",
   "execution_count": null,
   "id": "cdfa4666-3015-4313-ba47-21950e1978d0",
   "metadata": {},
   "outputs": [],
   "source": [
    "# Animate the scatter plot\n",
    "ani = animation.FuncAnimation(fig, animate, repeat=True, \n",
    "                              frames=len(x) - 1, interval=50)"
   ]
  },
  {
   "cell_type": "code",
   "execution_count": null,
   "id": "26526ffe-37d9-4016-9b26-6ba9428f7f4d",
   "metadata": {},
   "outputs": [],
   "source": [
    "#Save animation as a gif\n",
    "writer = animation.PillowWriter(fps=15,\n",
    "                                metadata=dict(artist='Me'),\n",
    "                                bitrate=1800)\n",
    "ani.save('scatter.gif', writer=writer)"
   ]
  },
  {
   "cell_type": "code",
   "execution_count": null,
   "id": "44863541-54e0-4673-b5fc-125828d2d2ce",
   "metadata": {},
   "outputs": [],
   "source": [
    "# Create an array of random numbers\n",
    "fig, ax = plt.subplots()\n",
    "rng = np.random.default_rng(19680801)"
   ]
  },
  {
   "cell_type": "code",
   "execution_count": null,
   "id": "761484a5-a523-487a-9575-3c514bdb45ed",
   "metadata": {},
   "outputs": [],
   "source": [
    "# Create x and y (data) arrays\n",
    "x = np.array([1, 2, 3, 4])\n",
    "data = np.array([20, 20, 20, 20])"
   ]
  },
  {
   "cell_type": "code",
   "execution_count": null,
   "id": "202eba0b-de82-455b-965f-f74239dc50b8",
   "metadata": {},
   "outputs": [],
   "source": [
    "# Create artist and color arrays\n",
    "artists = []\n",
    "colors = ['tab:blue', 'tab:red', 'tab:green', 'tab:purple']"
   ]
  },
  {
   "cell_type": "code",
   "execution_count": null,
   "id": "65121305-3402-41e7-bcd1-44e1a7dd0eba",
   "metadata": {},
   "outputs": [],
   "source": [
    "# append each frame to the artist array\n",
    "for i in range(20):\n",
    "    data += rng.integers(low=0, high=10, size=data.shape)\n",
    "    container = ax.barh(x, data, color=colors)\n",
    "    artists.append(container)"
   ]
  },
  {
   "cell_type": "code",
   "execution_count": null,
   "id": "d287c0e9-9d2f-4f6b-8628-858e6c2d2549",
   "metadata": {},
   "outputs": [],
   "source": [
    "# Animate figure\n",
    "ani = animation.ArtistAnimation(fig=fig, artists=artists, interval=400)\n",
    "plt.show()"
   ]
  },
  {
   "cell_type": "code",
   "execution_count": null,
   "id": "bef7ac63-f9fb-402c-bb81-752270e4b210",
   "metadata": {},
   "outputs": [],
   "source": [
    "# Save animation as a gift\n",
    "ani.save('artists.gif', writer=\"pillow\")"
   ]
  }
 ],
 "metadata": {
  "kernelspec": {
   "display_name": "Python 3 (ipykernel)",
   "language": "python",
   "name": "python3"
  },
  "language_info": {
   "codemirror_mode": {
    "name": "ipython",
    "version": 3
   },
   "file_extension": ".py",
   "mimetype": "text/x-python",
   "name": "python",
   "nbconvert_exporter": "python",
   "pygments_lexer": "ipython3",
   "version": "3.10.10"
  }
 },
 "nbformat": 4,
 "nbformat_minor": 5
}
