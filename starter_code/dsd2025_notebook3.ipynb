{
 "cells": [
  {
   "cell_type": "markdown",
   "id": "9a4bf046-f9d0-40bb-836a-04e571515827",
   "metadata": {},
   "source": [
    "# Notebook 3: Animation with Plotly"
   ]
  },
  {
   "cell_type": "markdown",
   "id": "73677e57-7e9e-4a96-9968-19a0aa5bb1c3",
   "metadata": {},
   "source": [
    "#### This notebook is based off of the following tutorial: https://plotly.com/python/animations/"
   ]
  },
  {
   "cell_type": "code",
   "execution_count": 1,
   "id": "4d92709c-5454-496c-8579-2aabb010a2aa",
   "metadata": {},
   "outputs": [],
   "source": [
    "# import pacakges\n",
    "import plotly as py\n",
    "import plotly.express as px\n",
    "import pandas as pd\n",
    "import plotly.graph_objects as go"
   ]
  },
  {
   "cell_type": "markdown",
   "id": "18c70f00-d70c-4ee8-a68e-033ab69a9227",
   "metadata": {},
   "source": [
    "### Create an animated scatter plot (https://plotly.com/python-api-reference/generated/plotly.express.scatter)"
   ]
  },
  {
   "cell_type": "markdown",
   "id": "b2b91f54-78ed-456b-b769-94cf4a14e93a",
   "metadata": {},
   "source": [
    "### Create an animated bar chart (https://plotly.com/python-api-reference/generated/plotly.express.bar)"
   ]
  },
  {
   "cell_type": "markdown",
   "id": "54f2b8f3-536d-41dc-a01d-0bea0272872b",
   "metadata": {},
   "source": [
    "### Animate a scatter plot frame by frame using graph objects (https://plotly.com/python-api-reference/generated/plotly.graph_objects.Figure.html)"
   ]
  }
 ],
 "metadata": {
  "kernelspec": {
   "display_name": "Python 3 (ipykernel)",
   "language": "python",
   "name": "python3"
  },
  "language_info": {
   "codemirror_mode": {
    "name": "ipython",
    "version": 3
   },
   "file_extension": ".py",
   "mimetype": "text/x-python",
   "name": "python",
   "nbconvert_exporter": "python",
   "pygments_lexer": "ipython3",
   "version": "3.10.10"
  }
 },
 "nbformat": 4,
 "nbformat_minor": 5
}
