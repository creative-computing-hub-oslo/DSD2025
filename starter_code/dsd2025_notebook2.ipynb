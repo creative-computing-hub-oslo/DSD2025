{
 "cells": [
  {
   "cell_type": "markdown",
   "id": "1dfae745-32bf-4bd8-83f4-f24ab1531cd0",
   "metadata": {},
   "source": [
    "# Notebook 2: Dynamic Animation with Matplotlib"
   ]
  },
  {
   "cell_type": "markdown",
   "id": "2382f795-9864-4e18-af5e-0cf787b9170f",
   "metadata": {},
   "source": [
    "#### This notebook is based off of the following tutorial: https://matplotlib.org/stable/users/explain/animations/animations.html"
   ]
  },
  {
   "cell_type": "code",
   "execution_count": 1,
   "id": "24a5f099-fcd4-43b0-a19a-99eab5fea985",
   "metadata": {},
   "outputs": [],
   "source": [
    "# import packages\n",
    "import matplotlib.pyplot as plt\n",
    "import numpy as np\n",
    "import matplotlib.animation as animation"
   ]
  }
 ],
 "metadata": {
  "kernelspec": {
   "display_name": "Python 3 (ipykernel)",
   "language": "python",
   "name": "python3"
  },
  "language_info": {
   "codemirror_mode": {
    "name": "ipython",
    "version": 3
   },
   "file_extension": ".py",
   "mimetype": "text/x-python",
   "name": "python",
   "nbconvert_exporter": "python",
   "pygments_lexer": "ipython3",
   "version": "3.10.10"
  }
 },
 "nbformat": 4,
 "nbformat_minor": 5
}
