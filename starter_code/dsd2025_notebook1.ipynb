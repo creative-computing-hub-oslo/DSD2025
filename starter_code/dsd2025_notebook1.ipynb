{
 "cells": [
  {
   "cell_type": "markdown",
   "id": "549fa9a8-de38-47db-8420-ad87f5ff5469",
   "metadata": {},
   "source": [
    "# Notebook 1: Dynamic graphs using Plotly Express"
   ]
  },
  {
   "cell_type": "markdown",
   "id": "1a65b290-3806-44bb-a01d-f25435b8c6ca",
   "metadata": {},
   "source": [
    "#### This notebook is based off of the following tutorial: https://plotly.com/python/plotly-express/"
   ]
  },
  {
   "cell_type": "code",
   "execution_count": 1,
   "id": "01479b0f-abea-4a4d-84f7-54238a2b3371",
   "metadata": {},
   "outputs": [],
   "source": [
    "# import packages\n",
    "import plotly as py\n",
    "import plotly.express as px\n",
    "import pandas as pd"
   ]
  },
  {
   "cell_type": "markdown",
   "id": "888031c7-d4dc-4ec3-bc45-60983d42ca54",
   "metadata": {},
   "source": [
    "#### Plotly example data sets available here: https://plotly.com/python-api-reference/generated/plotly.express.data.html"
   ]
  },
  {
   "cell_type": "markdown",
   "id": "5ff25ae9-35d3-445f-92d6-e55cefbef4cc",
   "metadata": {},
   "source": [
    "### Create scatterplot with trendline, and marginal plots(https://plotly.com/python-api-reference/generated/plotly.express.scatter)"
   ]
  },
  {
   "cell_type": "markdown",
   "id": "2a0a1334-bbc9-4d91-9261-231ffe15c68a",
   "metadata": {},
   "source": [
    "### Create a bar chart (https://plotly.com/python-api-reference/generated/plotly.express.bar)"
   ]
  },
  {
   "cell_type": "markdown",
   "id": "eac21249-0391-435d-a454-8698c9c2c1f5",
   "metadata": {},
   "source": [
    "### Create a histogram (https://plotly.github.io/plotly.py-docs/generated/plotly.express.histogram.html)"
   ]
  }
 ],
 "metadata": {
  "kernelspec": {
   "display_name": "Python 3 (ipykernel)",
   "language": "python",
   "name": "python3"
  },
  "language_info": {
   "codemirror_mode": {
    "name": "ipython",
    "version": 3
   },
   "file_extension": ".py",
   "mimetype": "text/x-python",
   "name": "python",
   "nbconvert_exporter": "python",
   "pygments_lexer": "ipython3",
   "version": "3.10.10"
  }
 },
 "nbformat": 4,
 "nbformat_minor": 5
}
