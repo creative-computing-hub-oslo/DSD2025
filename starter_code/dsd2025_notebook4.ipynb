{
 "cells": [
  {
   "cell_type": "markdown",
   "id": "1710eb94-ac6f-4325-9815-a99f3326cd87",
   "metadata": {},
   "source": [
    "# Notebook 4: Interactive Network Visualization with Bokeh"
   ]
  },
  {
   "cell_type": "markdown",
   "id": "d52810fe-a328-483f-8865-197ac49a044a",
   "metadata": {},
   "source": [
    "#### This notebook is based off of the following tutorial: https://melaniewalsh.github.io/Intro-Cultural-Analytics/06-Network-Analysis/02-Making-Network-Viz-with-Bokeh.html"
   ]
  },
  {
   "cell_type": "code",
   "execution_count": null,
   "id": "af7a907b-8f79-4692-8578-9b0754fd98f5",
   "metadata": {},
   "outputs": [],
   "source": [
    "# Import packages\n",
    "import pandas as pd\n",
    "import networkx\n",
    "import matplotlib.pyplot as plt\n",
    "import numpy as np\n",
    "from bokeh.io import output_file, show, save\n",
    "from bokeh.models import Range1d, Circle, ColumnDataSource, MultiLine\n",
    "from bokeh.plotting import figure, from_networkx\n",
    "from bokeh.palettes import Blues8, Reds8, Purples8, Oranges8, Viridis8, Spectral8\n",
    "from bokeh.transform import linear_cmap"
   ]
  },
  {
   "cell_type": "markdown",
   "id": "825a6082-3f54-4759-91e3-cf33e69e5790",
   "metadata": {},
   "source": [
    "### Read edges csv (https://github.com/melaniewalsh/sample-social-network-datasets/tree/master/sample-datasets/game-of-thrones)"
   ]
  },
  {
   "cell_type": "code",
   "execution_count": null,
   "id": "6dde4354-a51e-4abf-9096-1adf259bae25",
   "metadata": {},
   "outputs": [],
   "source": [
    "df = pd.read_csv('../data/got-edges.csv')\n",
    "df"
   ]
  },
  {
   "cell_type": "markdown",
   "id": "f4bfe9bd-fff4-4241-82d2-028711cb18ef",
   "metadata": {},
   "source": [
    "### Create a network (https://networkx.org/documentation/stable/reference/generated/networkx.convert_matrix.from_pandas_edgelist.html)"
   ]
  },
  {
   "cell_type": "markdown",
   "id": "9b927ec8-37c4-4113-ab35-55d1ccf51ffc",
   "metadata": {},
   "source": [
    "### Create a network graph object with spring layout (https://networkx.github.io/documentation/networkx-1.9/reference/generated/networkx.drawing.layout.spring_layout.html)"
   ]
  },
  {
   "cell_type": "markdown",
   "id": "cfff211b-a430-4aeb-9312-eb5e78049026",
   "metadata": {},
   "source": [
    "### Calculate the degree for each node and add it as a node attribute (https://networkx.org/documentation/stable/reference/generated/networkx.classes.function.set_node_attributes.html)"
   ]
  },
  {
   "cell_type": "code",
   "execution_count": null,
   "id": "793c2e1f-cedb-4006-9aed-455a633ee68a",
   "metadata": {},
   "outputs": [],
   "source": []
  }
 ],
 "metadata": {
  "kernelspec": {
   "display_name": "Python 3 (ipykernel)",
   "language": "python",
   "name": "python3"
  },
  "language_info": {
   "codemirror_mode": {
    "name": "ipython",
    "version": 3
   },
   "file_extension": ".py",
   "mimetype": "text/x-python",
   "name": "python",
   "nbconvert_exporter": "python",
   "pygments_lexer": "ipython3",
   "version": "3.10.10"
  }
 },
 "nbformat": 4,
 "nbformat_minor": 5
}
