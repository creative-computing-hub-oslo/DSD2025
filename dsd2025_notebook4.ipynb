{
 "cells": [
  {
   "cell_type": "markdown",
   "id": "1710eb94-ac6f-4325-9815-a99f3326cd87",
   "metadata": {},
   "source": [
    "# Notebook 4: Interactive Network Visualization with Bokeh"
   ]
  },
  {
   "cell_type": "markdown",
   "id": "d52810fe-a328-483f-8865-197ac49a044a",
   "metadata": {},
   "source": [
    "#### This notebook is based off of the following tutorial: https://melaniewalsh.github.io/Intro-Cultural-Analytics/06-Network-Analysis/02-Making-Network-Viz-with-Bokeh.html"
   ]
  },
  {
   "cell_type": "code",
   "execution_count": null,
   "id": "af7a907b-8f79-4692-8578-9b0754fd98f5",
   "metadata": {},
   "outputs": [],
   "source": [
    "# Import packages\n",
    "import pandas as pd\n",
    "import networkx\n",
    "import matplotlib.pyplot as plt\n",
    "import numpy as np\n",
    "from bokeh.io import output_notebook, show, save\n",
    "from bokeh.models import Range1d, Circle, ColumnDataSource, MultiLine\n",
    "from bokeh.plotting import figure, from_networkx"
   ]
  },
  {
   "cell_type": "code",
   "execution_count": null,
   "id": "6dde4354-a51e-4abf-9096-1adf259bae25",
   "metadata": {},
   "outputs": [],
   "source": [
    "# Read edges csv\n",
    "# https://github.com/melaniewalsh/sample-social-network-datasets/tree/master/sample-datasets/game-of-thrones\n",
    "df = pd.read_csv('data/got-edges.csv')\n",
    "df"
   ]
  },
  {
   "cell_type": "code",
   "execution_count": null,
   "id": "07127504-7cd6-4f77-9d5e-c0697407b03c",
   "metadata": {},
   "outputs": [],
   "source": [
    "# Create a network\n",
    "# https://networkx.org/documentation/stable/reference/generated/networkx.convert_matrix.from_pandas_edgelist.html\n",
    "G = networkx.from_pandas_edgelist(df, 'Source', 'Target', 'Weight')"
   ]
  },
  {
   "cell_type": "code",
   "execution_count": null,
   "id": "ae083790-44ce-4a50-99dc-88166d44b473",
   "metadata": {},
   "outputs": [],
   "source": [
    "#Establish which categories will appear when hovering over each node\n",
    "HOVER_TOOLTIPS = [(\"Character\", \"@index\")]\n",
    "\n",
    "#Create a plot — set dimensions, toolbar, and title\n",
    "title = 'Game of Thrones Network'\n",
    "plot = figure(tooltips = HOVER_TOOLTIPS,\n",
    "              tools=\"pan,wheel_zoom,save,reset\", active_scroll='wheel_zoom',\n",
    "            x_range=Range1d(-10.1, 10.1), y_range=Range1d(-10.1, 10.1), title=title)"
   ]
  },
  {
   "cell_type": "code",
   "execution_count": null,
   "id": "56ff7cd9-bef0-49c7-a349-e6c9dd283526",
   "metadata": {},
   "outputs": [],
   "source": [
    "# Create a network graph object with spring layout\n",
    "# https://networkx.github.io/documentation/networkx-1.9/reference/generated/networkx.drawing.layout.spring_layout.html\n",
    "network_graph = from_networkx(G, networkx.spring_layout, scale=10, center=(0, 0))\n",
    "\n",
    "#Set node size and color\n",
    "network_graph.node_renderer.glyph = Circle(radius=0.1, fill_color='skyblue')\n",
    "\n",
    "#Set edge opacity and width\n",
    "network_graph.edge_renderer.glyph = MultiLine(line_alpha=0.5, line_width=1)\n",
    "\n",
    "#Add network graph to the plot\n",
    "plot.renderers.append(network_graph)"
   ]
  },
  {
   "cell_type": "code",
   "execution_count": null,
   "id": "8e19b382-2519-4d9a-848d-084022c4ad31",
   "metadata": {},
   "outputs": [],
   "source": [
    "# show and save plot\n",
    "show(plot)\n",
    "save(plot, filename=f\"{title}.html\")"
   ]
  }
 ],
 "metadata": {
  "kernelspec": {
   "display_name": "Python 3 (ipykernel)",
   "language": "python",
   "name": "python3"
  },
  "language_info": {
   "codemirror_mode": {
    "name": "ipython",
    "version": 3
   },
   "file_extension": ".py",
   "mimetype": "text/x-python",
   "name": "python",
   "nbconvert_exporter": "python",
   "pygments_lexer": "ipython3",
   "version": "3.10.10"
  }
 },
 "nbformat": 4,
 "nbformat_minor": 5
}
