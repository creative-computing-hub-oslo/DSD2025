{
 "cells": [
  {
   "cell_type": "markdown",
   "id": "4f30a37f-b220-464c-9bef-87396fa232d8",
   "metadata": {},
   "source": [
    "# Notebook 0: Install Packages"
   ]
  },
  {
   "cell_type": "code",
   "execution_count": 2,
   "id": "5e77f9fc-df97-4fe4-b6eb-da4a309834c9",
   "metadata": {},
   "outputs": [
    {
     "name": "stdout",
     "output_type": "stream",
     "text": [
      "Defaulting to user installation because normal site-packages is not writeable\n",
      "Requirement already satisfied: numpy in /opt/tljh/user/lib/python3.10/site-packages (2.1.3)\n",
      "Defaulting to user installation because normal site-packages is not writeable\n",
      "Requirement already satisfied: plotly in /opt/tljh/user/lib/python3.10/site-packages (5.24.1)\n",
      "Requirement already satisfied: tenacity>=6.2.0 in /opt/tljh/user/lib/python3.10/site-packages (from plotly) (9.0.0)\n",
      "Requirement already satisfied: packaging in /home/jupyter-jpclemente97/.local/lib/python3.10/site-packages (from plotly) (24.2)\n",
      "Defaulting to user installation because normal site-packages is not writeable\n",
      "Requirement already satisfied: pandas in /opt/tljh/user/lib/python3.10/site-packages (2.2.3)\n",
      "Requirement already satisfied: numpy>=1.22.4 in /opt/tljh/user/lib/python3.10/site-packages (from pandas) (2.1.3)\n",
      "Requirement already satisfied: python-dateutil>=2.8.2 in /opt/tljh/user/lib/python3.10/site-packages (from pandas) (2.9.0.post0)\n",
      "Requirement already satisfied: pytz>=2020.1 in /opt/tljh/user/lib/python3.10/site-packages (from pandas) (2024.2)\n",
      "Requirement already satisfied: tzdata>=2022.7 in /home/jupyter-jpclemente97/.local/lib/python3.10/site-packages (from pandas) (2024.2)\n",
      "Requirement already satisfied: six>=1.5 in /opt/tljh/user/lib/python3.10/site-packages (from python-dateutil>=2.8.2->pandas) (1.16.0)\n",
      "Defaulting to user installation because normal site-packages is not writeable\n",
      "Requirement already satisfied: matplotlib in /opt/tljh/user/lib/python3.10/site-packages (3.9.3)\n",
      "Requirement already satisfied: contourpy>=1.0.1 in /home/jupyter-jpclemente97/.local/lib/python3.10/site-packages (from matplotlib) (1.3.1)\n",
      "Requirement already satisfied: cycler>=0.10 in /home/jupyter-jpclemente97/.local/lib/python3.10/site-packages (from matplotlib) (0.12.1)\n",
      "Requirement already satisfied: fonttools>=4.22.0 in /home/jupyter-jpclemente97/.local/lib/python3.10/site-packages (from matplotlib) (4.55.1)\n",
      "Requirement already satisfied: kiwisolver>=1.3.1 in /home/jupyter-jpclemente97/.local/lib/python3.10/site-packages (from matplotlib) (1.4.7)\n",
      "Requirement already satisfied: numpy>=1.23 in /opt/tljh/user/lib/python3.10/site-packages (from matplotlib) (2.1.3)\n",
      "Requirement already satisfied: packaging>=20.0 in /home/jupyter-jpclemente97/.local/lib/python3.10/site-packages (from matplotlib) (24.2)\n",
      "Requirement already satisfied: pillow>=8 in /home/jupyter-jpclemente97/.local/lib/python3.10/site-packages (from matplotlib) (11.0.0)\n",
      "Requirement already satisfied: pyparsing>=2.3.1 in /home/jupyter-jpclemente97/.local/lib/python3.10/site-packages (from matplotlib) (3.2.0)\n",
      "Requirement already satisfied: python-dateutil>=2.7 in /opt/tljh/user/lib/python3.10/site-packages (from matplotlib) (2.9.0.post0)\n",
      "Requirement already satisfied: six>=1.5 in /opt/tljh/user/lib/python3.10/site-packages (from python-dateutil>=2.7->matplotlib) (1.16.0)\n",
      "Defaulting to user installation because normal site-packages is not writeable\n",
      "Requirement already satisfied: plotly_express in /home/jupyter-jpclemente97/.local/lib/python3.10/site-packages (0.4.1)\n",
      "Requirement already satisfied: pandas>=0.20.0 in /opt/tljh/user/lib/python3.10/site-packages (from plotly_express) (2.2.3)\n",
      "Requirement already satisfied: plotly>=4.1.0 in /opt/tljh/user/lib/python3.10/site-packages (from plotly_express) (5.24.1)\n",
      "Requirement already satisfied: statsmodels>=0.9.0 in /home/jupyter-jpclemente97/.local/lib/python3.10/site-packages (from plotly_express) (0.14.4)\n",
      "Requirement already satisfied: scipy>=0.18 in /home/jupyter-jpclemente97/.local/lib/python3.10/site-packages (from plotly_express) (1.14.1)\n",
      "Requirement already satisfied: patsy>=0.5 in /home/jupyter-jpclemente97/.local/lib/python3.10/site-packages (from plotly_express) (1.0.1)\n",
      "Requirement already satisfied: numpy>=1.11 in /opt/tljh/user/lib/python3.10/site-packages (from plotly_express) (2.1.3)\n",
      "Requirement already satisfied: python-dateutil>=2.8.2 in /opt/tljh/user/lib/python3.10/site-packages (from pandas>=0.20.0->plotly_express) (2.9.0.post0)\n",
      "Requirement already satisfied: pytz>=2020.1 in /opt/tljh/user/lib/python3.10/site-packages (from pandas>=0.20.0->plotly_express) (2024.2)\n",
      "Requirement already satisfied: tzdata>=2022.7 in /home/jupyter-jpclemente97/.local/lib/python3.10/site-packages (from pandas>=0.20.0->plotly_express) (2024.2)\n",
      "Requirement already satisfied: tenacity>=6.2.0 in /opt/tljh/user/lib/python3.10/site-packages (from plotly>=4.1.0->plotly_express) (9.0.0)\n",
      "Requirement already satisfied: packaging in /home/jupyter-jpclemente97/.local/lib/python3.10/site-packages (from plotly>=4.1.0->plotly_express) (24.2)\n",
      "Requirement already satisfied: six>=1.5 in /opt/tljh/user/lib/python3.10/site-packages (from python-dateutil>=2.8.2->pandas>=0.20.0->plotly_express) (1.16.0)\n",
      "Defaulting to user installation because normal site-packages is not writeable\n",
      "Requirement already satisfied: networkx in /home/jupyter-jpclemente97/.local/lib/python3.10/site-packages (3.4.2)\n",
      "Defaulting to user installation because normal site-packages is not writeable\n",
      "Collecting bokeh\n",
      "  Downloading bokeh-3.6.2-py3-none-any.whl.metadata (12 kB)\n",
      "Requirement already satisfied: Jinja2>=2.9 in /opt/tljh/user/lib/python3.10/site-packages (from bokeh) (3.1.4)\n",
      "Requirement already satisfied: contourpy>=1.2 in /home/jupyter-jpclemente97/.local/lib/python3.10/site-packages (from bokeh) (1.3.1)\n",
      "Requirement already satisfied: numpy>=1.16 in /opt/tljh/user/lib/python3.10/site-packages (from bokeh) (2.1.3)\n",
      "Requirement already satisfied: packaging>=16.8 in /home/jupyter-jpclemente97/.local/lib/python3.10/site-packages (from bokeh) (24.2)\n",
      "Requirement already satisfied: pandas>=1.2 in /opt/tljh/user/lib/python3.10/site-packages (from bokeh) (2.2.3)\n",
      "Requirement already satisfied: pillow>=7.1.0 in /home/jupyter-jpclemente97/.local/lib/python3.10/site-packages (from bokeh) (11.0.0)\n",
      "Requirement already satisfied: PyYAML>=3.10 in /opt/tljh/user/lib/python3.10/site-packages (from bokeh) (6.0.2)\n",
      "Requirement already satisfied: tornado>=6.2 in /home/jupyter-jpclemente97/.local/lib/python3.10/site-packages (from bokeh) (6.4.2)\n",
      "Collecting xyzservices>=2021.09.1 (from bokeh)\n",
      "  Downloading xyzservices-2024.9.0-py3-none-any.whl.metadata (4.1 kB)\n",
      "Requirement already satisfied: MarkupSafe>=2.0 in /home/jupyter-jpclemente97/.local/lib/python3.10/site-packages (from Jinja2>=2.9->bokeh) (3.0.2)\n",
      "Requirement already satisfied: python-dateutil>=2.8.2 in /opt/tljh/user/lib/python3.10/site-packages (from pandas>=1.2->bokeh) (2.9.0.post0)\n",
      "Requirement already satisfied: pytz>=2020.1 in /opt/tljh/user/lib/python3.10/site-packages (from pandas>=1.2->bokeh) (2024.2)\n",
      "Requirement already satisfied: tzdata>=2022.7 in /home/jupyter-jpclemente97/.local/lib/python3.10/site-packages (from pandas>=1.2->bokeh) (2024.2)\n",
      "Requirement already satisfied: six>=1.5 in /opt/tljh/user/lib/python3.10/site-packages (from python-dateutil>=2.8.2->pandas>=1.2->bokeh) (1.16.0)\n",
      "Downloading bokeh-3.6.2-py3-none-any.whl (6.9 MB)\n",
      "\u001b[2K   \u001b[90m━━━━━━━━━━━━━━━━━━━━━━━━━━━━━━━━━━━━━━━━\u001b[0m \u001b[32m6.9/6.9 MB\u001b[0m \u001b[31m53.7 MB/s\u001b[0m eta \u001b[36m0:00:00\u001b[0m\n",
      "Downloading xyzservices-2024.9.0-py3-none-any.whl (85 kB)\n",
      "Installing collected packages: xyzservices, bokeh\n",
      "\u001b[33m  WARNING: The script bokeh is installed in '/home/jupyter-jpclemente97/.local/bin' which is not on PATH.\n",
      "  Consider adding this directory to PATH or, if you prefer to suppress this warning, use --no-warn-script-location.\u001b[0m\u001b[33m\n",
      "\u001b[0mSuccessfully installed bokeh-3.6.2 xyzservices-2024.9.0\n"
     ]
    }
   ],
   "source": [
    "!pip install numpy\n",
    "!pip install plotly\n",
    "!pip install pandas\n",
    "!pip install matplotlib\n",
    "!pip install plotly_express\n",
    "!pip install networkx\n",
    "!pip install bokeh"
   ]
  },
  {
   "cell_type": "code",
   "execution_count": null,
   "id": "456f7ecc-bbdc-478e-9f43-5dd877218445",
   "metadata": {},
   "outputs": [],
   "source": []
  }
 ],
 "metadata": {
  "kernelspec": {
   "display_name": "Python 3 (ipykernel)",
   "language": "python",
   "name": "python3"
  },
  "language_info": {
   "codemirror_mode": {
    "name": "ipython",
    "version": 3
   },
   "file_extension": ".py",
   "mimetype": "text/x-python",
   "name": "python",
   "nbconvert_exporter": "python",
   "pygments_lexer": "ipython3",
   "version": "3.10.10"
  }
 },
 "nbformat": 4,
 "nbformat_minor": 5
}
